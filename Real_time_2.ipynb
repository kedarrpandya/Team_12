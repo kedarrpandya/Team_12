{
 "cells": [
  {
   "cell_type": "code",
   "execution_count": 1,
   "id": "a8f61e18",
   "metadata": {},
   "outputs": [],
   "source": [
    "from ultralytics import YOLO\n",
    "#from ultralytics.yolo.v8.detect.predict import DetectionPredictor\n",
    "import cv2"
   ]
  },
  {
   "cell_type": "code",
   "execution_count": null,
   "id": "359b2275",
   "metadata": {},
   "outputs": [],
   "source": []
  },
  {
   "cell_type": "code",
   "execution_count": null,
   "id": "9c6fcba8",
   "metadata": {},
   "outputs": [
    {
     "name": "stdout",
     "output_type": "stream",
     "text": [
      "\n",
      "1/1: 0... Success ✅ (inf frames of shape 640x480 at 30.00 FPS)\n",
      "\n",
      "\n",
      "WARNING ⚠️ inference results will accumulate in RAM unless `stream=True` is passed, causing potential out-of-memory\n",
      "errors for large sources or long-running streams and videos. See https://docs.ultralytics.com/modes/predict/ for help.\n",
      "\n",
      "Example:\n",
      "    results = model(source=..., stream=True)  # generator of Results objects\n",
      "    for r in results:\n",
      "        boxes = r.boxes  # Boxes object for bbox outputs\n",
      "        masks = r.masks  # Masks object for segment masks outputs\n",
      "        probs = r.probs  # Class probabilities for classification outputs\n",
      "\n",
      "0: 480x640 1 person, 2903.6ms\n",
      "0: 480x640 1 person, 4032.8ms\n",
      "0: 480x640 1 person, 2488.9ms\n",
      "0: 480x640 1 person, 1932.5ms\n",
      "0: 480x640 1 person, 1637.9ms\n",
      "0: 480x640 1 person, 1793.6ms\n",
      "0: 480x640 1 person, 1 cell phone, 1851.5ms\n",
      "0: 480x640 1 person, 1 cell phone, 1948.2ms\n",
      "0: 480x640 1 person, 2 cell phones, 1 toothbrush, 1926.8ms\n",
      "0: 480x640 1 person, 1 cell phone, 1 toothbrush, 1973.3ms\n",
      "0: 480x640 1 person, 1 cell phone, 1600.0ms\n",
      "0: 480x640 1 person, 1 cell phone, 817.8ms\n",
      "0: 480x640 1 person, 1 cell phone, 841.2ms\n",
      "0: 480x640 1 person, 1 remote, 1 cell phone, 1414.9ms\n",
      "0: 480x640 1 person, 1 cell phone, 1912.8ms\n",
      "0: 480x640 1 person, 1 cell phone, 1582.4ms\n",
      "0: 480x640 1 person, 1 cell phone, 1371.2ms\n",
      "0: 480x640 1 person, 1 cell phone, 1076.7ms\n",
      "0: 480x640 1 person, 1 cell phone, 1755.8ms\n",
      "0: 480x640 1 person, 1 cell phone, 1633.3ms\n",
      "0: 480x640 1 person, 1 cell phone, 945.3ms\n",
      "0: 480x640 1 person, 1 cell phone, 1519.7ms\n",
      "0: 480x640 1 person, 1 cell phone, 1814.4ms\n",
      "0: 480x640 1 person, 1 cell phone, 1615.3ms\n"
     ]
    }
   ],
   "source": [
    "model = YOLO(\"yolov8m.pt\")\n",
    "\n",
    "\n",
    "results = model.predict(source=\"0\" , show = True)\n",
    "cap = source\n",
    "\n",
    "if not cap.isOpened():\n",
    "    print(\"Error: Could not open camera.\")\n",
    "    exit()\n",
    "\n",
    "while True:\n",
    "    # Capture frame-by-frame\n",
    "    ret, frame = cap.read()\n",
    "    \n",
    "    # If frame is read correctly, ret is True\n",
    "    if not ret:\n",
    "        print(\"Error: Can't receive frame (stream end?). Exiting ...\")\n",
    "        break\n",
    "\n",
    "    # Display the resulting frame\n",
    "    cv2.imshow('Live Video Feed', frame)\n",
    "    \n",
    "    # Break the loop when 'q' is pressed\n",
    "    if cv2.waitKey(1) & 0xFF == ord('q'):\n",
    "        break\n",
    "\n",
    "# When everything is done, release the capture and close all OpenCV windows\n",
    "cap.release()\n",
    "cv2.destroyAllWindows()"
   ]
  },
  {
   "cell_type": "code",
   "execution_count": null,
   "id": "279471b2",
   "metadata": {},
   "outputs": [],
   "source": []
  },
  {
   "cell_type": "code",
   "execution_count": null,
   "id": "28450113",
   "metadata": {},
   "outputs": [],
   "source": [
    "import json\n",
    "import requests\n",
    "\n",
    "# Run inference on an image\n",
    "url = \"https://api.ultralytics.com/v1/predict/7KoQv76HZPjBdcbcTLiC\"\n",
    "headers = {\"x-api-key\": \"dcf23897823a23232ac0e2f5599d1108264f5aefab\"}\n",
    "data = {\"size\": 640, \"confidence\": 0.25, \"iou\": 0.25}\n",
    "\n",
    "\n",
    "with open(\"path/to/image.jpg\", \"rb\") as f:\n",
    "\tresponse = requests.post(url, headers=headers, data=data, files={\"image\": f})\n",
    "\n",
    "# Check for successful response\n",
    "response.raise_for_status()\n",
    "\n",
    "# Print inference results\n",
    "print(json.dumps(response.json(), indent=2))"
   ]
  },
  {
   "cell_type": "code",
   "execution_count": 3,
   "id": "9756d0aa",
   "metadata": {},
   "outputs": [
    {
     "name": "stdout",
     "output_type": "stream",
     "text": [
      "Failed: b'{\"message\":\"Unhandled server error.\",\"success\":false}\\n'\n",
      "Request failed: Server returned non-200 status code\n",
      "Failed: b'{\"message\":\"Unhandled server error.\",\"success\":false}\\n'\n",
      "Request failed: Server returned non-200 status code\n",
      "Failed: b'{\"message\":\"Unhandled server error.\",\"success\":false}\\n'\n",
      "Request failed: Server returned non-200 status code\n",
      "Failed: b'{\"message\":\"Unhandled server error.\",\"success\":false}\\n'\n",
      "Request failed: Server returned non-200 status code\n",
      "Giving up after 3 attempts.\n"
     ]
    }
   ],
   "source": [
    "import cv2\n",
    "import requests\n",
    "import time\n",
    "\n",
    "def capture_frame():\n",
    "    # Initialize the webcam\n",
    "    cap = cv2.VideoCapture(0)\n",
    "\n",
    "    # Check if the webcam is opened correctly\n",
    "    if not cap.isOpened():\n",
    "        raise IOError(\"Cannot open webcam\")\n",
    "\n",
    "    ret, frame = cap.read()\n",
    "    cap.release()\n",
    "\n",
    "    if not ret:\n",
    "        print(\"Failed to capture frame from webcam\")\n",
    "        return None\n",
    "    return frame\n",
    "\n",
    "def encode_frame(frame):\n",
    "    # Encode the frame in JPEG format\n",
    "    _, buffer = cv2.imencode('.jpg', frame)\n",
    "    \n",
    "    # Convert the buffer to a byte stream\n",
    "    return buffer.tobytes()\n",
    "\n",
    "def send_frame(img_bytes, attempt=0):\n",
    "    url = \"https://api.ultralytics.com/v1/predict/7KoQv76HZPjBdcbcTLiC\"\n",
    "    headers = {\"x-api-key\": \"dcf23897823a23232ac0e2f5599d1108264f5aefab\"}\n",
    "    data = {\"size\": 640, \"confidence\": 0.25, \"iou\": 0.45}\n",
    "    \n",
    "    try:\n",
    "        # Send the POST request with the image\n",
    "        response = requests.post(url, headers=headers, data=data, files={'image': ('image.jpg', img_bytes, 'image/jpeg')})\n",
    "        \n",
    "        if response.status_code == 200:\n",
    "            print(\"Success:\", response.json())\n",
    "        else:\n",
    "            print(\"Failed:\", response.content)\n",
    "            raise Exception(\"Server returned non-200 status code\")\n",
    "\n",
    "    except Exception as e:\n",
    "        print(\"Request failed:\", e)\n",
    "        if attempt < 3:  # Retry up to 3 times\n",
    "            time.sleep(2 ** attempt)  # Exponential backoff\n",
    "            send_frame(img_bytes, attempt + 1)\n",
    "        else:\n",
    "            print(\"Giving up after 3 attempts.\")\n",
    "\n",
    "def main():\n",
    "    frame = capture_frame()\n",
    "    if frame is not None:\n",
    "        img_bytes = encode_frame(frame)\n",
    "        send_frame(img_bytes)\n",
    "\n",
    "if __name__ == \"__main__\":\n",
    "    main()\n"
   ]
  },
  {
   "cell_type": "code",
   "execution_count": 7,
   "id": "f1d7ebea",
   "metadata": {},
   "outputs": [
    {
     "name": "stdout",
     "output_type": "stream",
     "text": [
      "Note: you may need to restart the kernel to use updated packages.\n"
     ]
    },
    {
     "name": "stderr",
     "output_type": "stream",
     "text": [
      "WARNING: Ignoring invalid distribution -illow (c:\\users\\harsh\\appdata\\local\\programs\\python\\python39\\lib\\site-packages)\n",
      "ERROR: Could not find a version that satisfies the requirement JSON (from versions: none)\n",
      "ERROR: No matching distribution found for JSON\n"
     ]
    }
   ],
   "source": [
    "pip install JSON"
   ]
  },
  {
   "cell_type": "code",
   "execution_count": 5,
   "id": "4e34058b",
   "metadata": {},
   "outputs": [
    {
     "name": "stdout",
     "output_type": "stream",
     "text": [
      "{'message': 'Unhandled server error.', 'success': False}\n",
      "{'message': 'Unhandled server error.', 'success': False}\n",
      "{'message': 'Unhandled server error.', 'success': False}\n",
      "{'message': 'Unhandled server error.', 'success': False}\n",
      "{'message': 'Unhandled server error.', 'success': False}\n",
      "{'message': 'Unhandled server error.', 'success': False}\n"
     ]
    }
   ],
   "source": [
    "import cv2\n",
    "import requests\n",
    "import json\n",
    "import time\n",
    "\n",
    "API_URL = \"https://api.ultralytics.com/v1/predict/7KoQv76HZPjBdcbcTLiC\"\n",
    "HEADERS = {\n",
    "    \"x-api-key\": \"dcf23897823a23232ac0e2f5599d1108264f5aefab\",\n",
    "}\n",
    "\n",
    "def send_frame_for_detection(image_bytes):\n",
    "    files = {'image': ('image.jpg', image_bytes, 'image/jpeg')}\n",
    "    response = requests.post(API_URL, headers=HEADERS, files=files)\n",
    "    if response.status_code == 429:  # Assuming 429 is the rate limit status code\n",
    "        raise Exception(\"Rate limit exceeded\")\n",
    "    return response.json()\n",
    "\n",
    "def resize_frame(frame, target_width=640):\n",
    "    height, width = frame.shape[:2]\n",
    "    scale_ratio = target_width / width\n",
    "    target_height = int(height * scale_ratio)\n",
    "    resized_frame = cv2.resize(frame, (target_width, target_height), interpolation=cv2.INTER_AREA)\n",
    "    return resized_frame\n",
    "\n",
    "def main():\n",
    "    cap = cv2.VideoCapture(0)\n",
    "    delay = 1.0  # Initial delay in seconds\n",
    "\n",
    "    if not cap.isOpened():\n",
    "        print(\"Error: Could not open webcam.\")\n",
    "        return\n",
    "\n",
    "    try:\n",
    "        while True:\n",
    "            ret, frame = cap.read()\n",
    "            if not ret:\n",
    "                print(\"Error: Can't receive frame (stream end?). Exiting ...\")\n",
    "                break\n",
    "\n",
    "            resized_frame = resize_frame(frame, target_width=640)\n",
    "            _, buffer = cv2.imencode('.jpg', resized_frame)\n",
    "            img_bytes = buffer.tobytes()\n",
    "\n",
    "            try:\n",
    "                # Send frame for object detection\n",
    "                detection_results = send_frame_for_detection(img_bytes)\n",
    "                print(detection_results)\n",
    "                delay = max(1.0, delay * 0.9)  # Decrease delay after a successful request\n",
    "            except Exception as e:\n",
    "                print(\"Caught exception:\", str(e))\n",
    "                delay = delay * 2  # Increase delay\n",
    "                print(\"Increasing delay to:\", delay)\n",
    "\n",
    "            time.sleep(delay)  # Dynamic delay\n",
    "\n",
    "            cv2.imshow('Live Object Detection', frame)\n",
    "\n",
    "            if cv2.waitKey(1) & 0xFF == ord('q'):\n",
    "                break\n",
    "    finally:\n",
    "        cap.release()\n",
    "        cv2.destroyAllWindows()\n",
    "\n",
    "if __name__ == \"__main__\":\n",
    "    main()\n"
   ]
  },
  {
   "cell_type": "code",
   "execution_count": null,
   "id": "b66cc471",
   "metadata": {},
   "outputs": [],
   "source": []
  },
  {
   "cell_type": "code",
   "execution_count": null,
   "id": "818e121e",
   "metadata": {},
   "outputs": [],
   "source": []
  },
  {
   "cell_type": "code",
   "execution_count": null,
   "id": "c99b06a1",
   "metadata": {},
   "outputs": [],
   "source": []
  },
  {
   "cell_type": "code",
   "execution_count": null,
   "id": "5d5756b9",
   "metadata": {},
   "outputs": [],
   "source": []
  },
  {
   "cell_type": "code",
   "execution_count": null,
   "id": "d2df29ca",
   "metadata": {},
   "outputs": [],
   "source": []
  },
  {
   "cell_type": "code",
   "execution_count": null,
   "id": "2d2b82f9",
   "metadata": {},
   "outputs": [],
   "source": []
  },
  {
   "cell_type": "code",
   "execution_count": null,
   "id": "3bd18fec",
   "metadata": {},
   "outputs": [],
   "source": []
  },
  {
   "cell_type": "code",
   "execution_count": null,
   "id": "c1719cb7",
   "metadata": {},
   "outputs": [],
   "source": []
  },
  {
   "cell_type": "code",
   "execution_count": null,
   "id": "6cb72dcb",
   "metadata": {},
   "outputs": [],
   "source": []
  },
  {
   "cell_type": "code",
   "execution_count": null,
   "id": "ebc24e26",
   "metadata": {},
   "outputs": [],
   "source": []
  },
  {
   "cell_type": "code",
   "execution_count": null,
   "id": "ecdf92be",
   "metadata": {},
   "outputs": [],
   "source": []
  },
  {
   "cell_type": "code",
   "execution_count": null,
   "id": "89002af4",
   "metadata": {},
   "outputs": [],
   "source": []
  },
  {
   "cell_type": "code",
   "execution_count": null,
   "id": "d71ebe15",
   "metadata": {},
   "outputs": [],
   "source": []
  },
  {
   "cell_type": "code",
   "execution_count": null,
   "id": "a8a87c64",
   "metadata": {},
   "outputs": [],
   "source": []
  },
  {
   "cell_type": "code",
   "execution_count": null,
   "id": "9ca9cd2c",
   "metadata": {},
   "outputs": [],
   "source": []
  },
  {
   "cell_type": "code",
   "execution_count": null,
   "id": "5c7de901",
   "metadata": {},
   "outputs": [],
   "source": []
  },
  {
   "cell_type": "code",
   "execution_count": null,
   "id": "0933aea3",
   "metadata": {},
   "outputs": [],
   "source": []
  },
  {
   "cell_type": "code",
   "execution_count": null,
   "id": "5cd17d49",
   "metadata": {},
   "outputs": [],
   "source": []
  }
 ],
 "metadata": {
  "kernelspec": {
   "display_name": "Python 3 (ipykernel)",
   "language": "python",
   "name": "python3"
  },
  "language_info": {
   "codemirror_mode": {
    "name": "ipython",
    "version": 3
   },
   "file_extension": ".py",
   "mimetype": "text/x-python",
   "name": "python",
   "nbconvert_exporter": "python",
   "pygments_lexer": "ipython3",
   "version": "3.9.4"
  }
 },
 "nbformat": 4,
 "nbformat_minor": 5
}
